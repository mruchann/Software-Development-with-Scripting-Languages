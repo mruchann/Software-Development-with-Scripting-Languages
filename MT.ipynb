{
 "cells": [
  {
   "cell_type": "markdown",
   "metadata": {},
   "source": [
    "### Q1a"
   ]
  },
  {
   "cell_type": "code",
   "execution_count": null,
   "metadata": {},
   "outputs": [],
   "source": [
    "class Cart:\n",
    "    def __init__(self, a, b):\n",
    "        self.a, self.b = a, b\n",
    "        self.i, self.j = 0, 0\n",
    "\n",
    "    def __iter__(self):\n",
    "        return self\n",
    "\n",
    "    def __next__(self):\n",
    "        if self.i == len(self.a):\n",
    "            raise StopIteration\n",
    "        \n",
    "        t = (self.a[self.i], self.b[self.j])\n",
    "\n",
    "        self.j += 1\n",
    "        if self.j == len(self.b):\n",
    "            self.j = 0\n",
    "            self.i += 1\n",
    "        \n",
    "        return t\n",
    "\n",
    "for i in Cart([1,2], [\"a\", \"b\"]):\n",
    "    print(i)"
   ]
  },
  {
   "cell_type": "markdown",
   "metadata": {},
   "source": [
    "### Q1b"
   ]
  },
  {
   "cell_type": "code",
   "execution_count": null,
   "metadata": {},
   "outputs": [],
   "source": [
    "def cart(a, b):\n",
    "    for i in a:\n",
    "        for j in b:\n",
    "            yield (i,j)\n",
    "\n",
    "for i in cart([1,2], [\"a\", \"b\"]):\n",
    "    print(i)"
   ]
  },
  {
   "cell_type": "markdown",
   "metadata": {},
   "source": [
    "### Q2"
   ]
  },
  {
   "cell_type": "code",
   "execution_count": null,
   "metadata": {},
   "outputs": [],
   "source": [
    "import os\n",
    "\n",
    "def sortuniq(inpfilepath, outfilepath):\n",
    "    os.system(\"/usr/bin/sort < \" + inpfilepath + \" | /usr/bin/uniq > \" + outfilepath)\n",
    "\n",
    "sortuniq(\"/Users/mehmetruchanyavuzdemir/Desktop/python-445/notebooks/input.txt\", \n",
    "         \"/Users/mehmetruchanyavuzdemir/Desktop/python-445/notebooks/output.txt\")"
   ]
  },
  {
   "cell_type": "code",
   "execution_count": null,
   "metadata": {},
   "outputs": [],
   "source": [
    "from subprocess import *\n",
    "\n",
    "def sortuniq(inpfilepath, outfilepath):\n",
    "    ifile = open(inpfilepath, \"r\")\n",
    "    ofile = open(outfilepath, \"w\")\n",
    "    sort_process = Popen(\"/usr/bin/sort\", stdin=ifile, stdout=PIPE)\n",
    "    uniq_process = Popen(\"/usr/bin/uniq\", stdin=sort_process.stdout, stdout=ofile)\n",
    "\n",
    "    uniq_process.wait()"
   ]
  },
  {
   "cell_type": "code",
   "execution_count": null,
   "metadata": {},
   "outputs": [],
   "source": [
    "sortuniq(\"/Users/mehmetruchanyavuzdemir/Desktop/python-445/notebooks/input.txt\", \n",
    "         \"/Users/mehmetruchanyavuzdemir/Desktop/python-445/notebooks/output.txt\")"
   ]
  },
  {
   "cell_type": "markdown",
   "metadata": {},
   "source": [
    "### Q3a"
   ]
  },
  {
   "cell_type": "code",
   "execution_count": 2,
   "metadata": {},
   "outputs": [],
   "source": [
    "import re\n",
    "\n",
    "class Logger:\n",
    "    \"\"\"\n",
    "        Returns a new line of log. Assume already implemented.\n",
    "    \"\"\"\n",
    "    def nextline(self):\n",
    "        return \"144.12.1.121 tried X action at 02/12/2015\"\n",
    "\n",
    "\n",
    "class Highlighter: # Base Class  \n",
    "    def __init__(self, t):\n",
    "        self.obj = t\n",
    "\n",
    "    def __getattr__(self, name):\n",
    "        return getattr(self.obj, name)\n",
    "    \n",
    "\n",
    "class HLDate(Highlighter):\n",
    "    \"\"\"\n",
    "        Gets next line of log from the member object and return with replacing all date occurrences of \n",
    "        02/12/2015 into **02/12/2015**\n",
    "    \"\"\"\n",
    "    def nextline(self):\n",
    "        return re.sub(\"02/12/2015\", \"**02/12/2015**\", self.obj.nextline())\n",
    "\n",
    "\n",
    "class HLIP(Highlighter):\n",
    "    \"\"\"\n",
    "        Gets next line of log from the member object and return with replacing all IP occurrences like\n",
    "        144.12.1.121 into 144.12.*.*\n",
    "    \"\"\"\n",
    "    def nextline(self):\n",
    "        return re.sub(\"144.12.1.121\", \"144.12.*.*\", self.obj.nextline())"
   ]
  },
  {
   "cell_type": "markdown",
   "metadata": {},
   "source": [
    "### Q3b\n",
    "\n",
    "Decorator Pattern."
   ]
  },
  {
   "cell_type": "code",
   "execution_count": null,
   "metadata": {},
   "outputs": [],
   "source": [
    "a = Logger()\n",
    "b = HLIP(Logger())\n",
    "c = HLDate(Logger())\n",
    "d = HLIP(HLDate(Logger()))\n",
    "\n",
    "print(a.nextline())\n",
    "print(b.nextline())\n",
    "print(c.nextline())\n",
    "print(d.nextline())"
   ]
  },
  {
   "cell_type": "code",
   "execution_count": null,
   "metadata": {},
   "outputs": [],
   "source": [
    "a = HLIP(HLDate(Logger()))\n",
    "b = HLIP(Logger())\n",
    "\n",
    "# I = a.nextline()\n",
    "# while I != '':\n",
    "#     print(I)\n",
    "#     I = a.nextline()"
   ]
  },
  {
   "cell_type": "markdown",
   "metadata": {},
   "source": [
    "### Q4"
   ]
  },
  {
   "cell_type": "code",
   "execution_count": null,
   "metadata": {},
   "outputs": [],
   "source": [
    "from threading import *\n",
    "\n",
    "class GameRoom:\n",
    "    def __init__(self):\n",
    "        self.nempty = 4\n",
    "        self.ninside = 0\n",
    "\n",
    "        self.lock = Lock()\n",
    "        self.start = Condition(self.lock)\n",
    "        self.turn = Condition(self.lock)\n",
    "\n",
    "    def enter(self, name):\n",
    "        with self.lock:\n",
    "            while self.ninside == 4:\n",
    "                self.turn.wait()\n",
    "\n",
    "            print(name + \" has entered!\")\n",
    "            self.ninside += 1\n",
    "            self.nempty -= 1\n",
    "\n",
    "            if self.nempty == 0:\n",
    "                self.start.notify_all()\n",
    "                print(\"Game has started!\")\n",
    "            else:\n",
    "                while self.ninside < 4:\n",
    "                    self.start.wait()\n",
    "\n",
    "\n",
    "    def exit(self, name):\n",
    "        with self.lock:\n",
    "            print(name + \" has left!\")\n",
    "            self.nempty += 1\n",
    "            \n",
    "            if self.nempty == 4:\n",
    "                self.ninside = 0\n",
    "                self.turn.notify_all()\n",
    "                print(\"Game is over!\")"
   ]
  },
  {
   "cell_type": "code",
   "execution_count": null,
   "metadata": {},
   "outputs": [],
   "source": [
    "import time\n",
    "import random\n",
    "\n",
    "def player(room,name):\n",
    "\ttime.sleep(random.random()/100)\n",
    "\troom.enter(name)\n",
    "\ttime.sleep(random.random()/100)\n",
    "\troom.exit(name)\n",
    "\n",
    "\n",
    "gr = GameRoom()\n",
    "\n",
    "t = []\n",
    "for i in range(52):\n",
    "\tt.append(Thread(target=player, args=(gr, str(i))))\n",
    "\n",
    "for tr in t:\n",
    "\ttr.start()\n",
    "\n",
    "for tr in t:\n",
    "\ttr.join()"
   ]
  },
  {
   "cell_type": "markdown",
   "metadata": {},
   "source": [
    "### Q5"
   ]
  },
  {
   "cell_type": "code",
   "execution_count": null,
   "metadata": {},
   "outputs": [],
   "source": [
    "from multiprocessing import *\n",
    "from socket import *\n",
    "import sys\n",
    "\n",
    "def parsecommand(line): # Parses client input for convenience\n",
    "    (req, num) = line.decode().rstrip('\\n').split(' ')\n",
    "    return (req, int(num))\n",
    "\n",
    "class Server(Process): # Per process code is here\n",
    "    def __init__(self, ns, pricelist, is_sold, lock):\n",
    "        self.ns = ns\n",
    "        self.pricelist = pricelist\n",
    "        self.is_sold = is_sold\n",
    "        self.lock = lock\n",
    "        Process.__init__(self)\n",
    "\n",
    "    def buy(self, i):\n",
    "        with self.lock:\n",
    "            if self.is_sold[i]:\n",
    "                self.ns.send(b\"SOLD\\n\")\n",
    "            else:\n",
    "                self.is_sold[i] = True\n",
    "                self.ns.send(b\"OK\\n\")\n",
    "\n",
    "    def price(self, i):\n",
    "        self.ns.send((str(self.pricelist[i]) + \"\\n\").encode())\n",
    "    \n",
    "    def run(self):\n",
    "        while True:\n",
    "            line = self.ns.recv(1024)\n",
    "            (req, i) = parsecommand(line)\n",
    "            if (req == \"BUY\"):\n",
    "                self.buy(i)\n",
    "\n",
    "            elif (req == \"PRICE\"):\n",
    "                self.price(i)\n",
    "\n",
    "\n",
    "def startserver(host, port, pricelist):\n",
    "    s = socket(AF_INET, SOCK_STREAM)\n",
    "    s.bind((host, port))\n",
    "    s.listen(10)\n",
    "\n",
    "    n = len(pricelist)\n",
    "\n",
    "    is_sold = Array('b', n)\n",
    "    for i in range(n):\n",
    "        is_sold[i] = False\n",
    "\n",
    "    lock = Lock()\n",
    "\n",
    "    while True:\n",
    "        ns, peer = s.accept()\n",
    "        print(\"Accepted: \", peer)\n",
    "        p = Server(ns, pricelist, is_sold, lock)\n",
    "        p.start()\n",
    "\n",
    "if __name__ == '__main__':\n",
    "    startserver('0.0.0.0', int(sys.argv[1]), list(map(float, sys.argv[2].split(','))))\n",
    "    # python3 solution.py 1000 10,6,9,3\n",
    "    # nc 127.0.0.1 1000"
   ]
  }
 ],
 "metadata": {
  "kernelspec": {
   "display_name": "Python 3",
   "language": "python",
   "name": "python3"
  },
  "language_info": {
   "codemirror_mode": {
    "name": "ipython",
    "version": 3
   },
   "file_extension": ".py",
   "mimetype": "text/x-python",
   "name": "python",
   "nbconvert_exporter": "python",
   "pygments_lexer": "ipython3",
   "version": "3.9.6"
  }
 },
 "nbformat": 4,
 "nbformat_minor": 2
}
