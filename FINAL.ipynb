{
 "cells": [
  {
   "cell_type": "markdown",
   "metadata": {},
   "source": []
  },
  {
   "cell_type": "markdown",
   "metadata": {},
   "source": [
    "### Q1"
   ]
  },
  {
   "cell_type": "code",
   "execution_count": null,
   "metadata": {},
   "outputs": [],
   "source": [
    "from threading import *\n",
    "\n",
    "class Game:\n",
    "    def __init__(self):\n",
    "        self.waiting = 0 # players waiting to enter\n",
    "        self.leaving = 0 # players waiting to leave\n",
    "        self.lck = Lock()\n",
    "\n",
    "        self.canEnter = Condition(self.lck)\n",
    "        self.canExit = Condition(self.lck)\n",
    "\n",
    "\n",
    "    def enter(self):\n",
    "        with self.lck:\n",
    "            while self.leaving == 0:\n",
    "                self.waiting += 1\n",
    "                self.canEnter.wait()\n",
    "                self.waiting -= 1\n",
    "\n",
    "            self.waiting += 1\n",
    "            self.leaving -= 1\n",
    "\n",
    "            self.canExit.notify() \n",
    "        \n",
    "\n",
    "\n",
    "    def exit(self):\n",
    "        with self.lck:\n",
    "            while self.waiting == 0:\n",
    "                self.leaving += 1\n",
    "                self.canExit.wait()\n",
    "                self.leaving -= 1\n",
    "\n",
    "            self.leaving += 1\n",
    "            self.waiting -= 1\n",
    "\n",
    "            self.canEnter.notify()\n",
    "            "
   ]
  },
  {
   "cell_type": "markdown",
   "metadata": {},
   "source": [
    "### Q2"
   ]
  },
  {
   "cell_type": "code",
   "execution_count": null,
   "metadata": {},
   "outputs": [],
   "source": [
    "class Loader: # abstract class\n",
    "    def load(self, store, str):\n",
    "        pass\n",
    "\n",
    "class Saver: # abstract class\n",
    "    def save(self, store):\n",
    "        pass\n",
    "\n",
    "# Strategy pattern\n",
    "class Store:\n",
    "    def __init__(self, ldr, svr):\n",
    "        self.store = {}\n",
    "        self.ldr = ldr\n",
    "        self.svr = svr\n",
    "\n",
    "    def parse(self, fname):\n",
    "        self.ldr.load(\n",
    "            self.store, \n",
    "            open(fname, 'r').read()\n",
    "        )\n",
    "\n",
    "    def dump(self):\n",
    "        return self.svr.save(self.store)\n",
    "\n",
    "class XMLLoader(Loader):\n",
    "    # assume this parses str as xml and puts on store.\n",
    "    def load(self, store, str):\n",
    "        pass\n",
    "        \n",
    "\n",
    "class XMLSaver(Saver):\n",
    "    # assume this generates store contents as XML string.\n",
    "    def save(self, store): \n",
    "        pass\n",
    "\n",
    "class HTMLQLoader(Loader):\n",
    "    def load(self, store, str):\n",
    "        # str is an HTTP query. parse it, put values in store dictionary\n",
    "\n",
    "        for kv in str.split('&'):\n",
    "            k, v = kv.split('=')\n",
    "            store[k] = v\n",
    "\n",
    "class HTMLQSaver(Saver):\n",
    "    def save(self, store):\n",
    "        # return store dictionary content as HTTP query. \n",
    "        # Assume simple dump to string\n",
    "\n",
    "        query = []\n",
    "\n",
    "        for (k, v) in store.items():\n",
    "            query.append(k + '=' + v)\n",
    "            query.append('&')\n",
    "\n",
    "        if query:\n",
    "            query.pop()\n",
    "\n",
    "        return ''.join(query)\n",
    "\n",
    "\n",
    "\n",
    "# Factory pattern\n",
    "def Generator(inp, out):\n",
    "    if inp == 'xml':\n",
    "        loader = XMLLoader()\n",
    "    else:\n",
    "        loader = HTMLQLoader()\n",
    "\n",
    "    if out == 'xml':\n",
    "        saver = XMLSaver()\n",
    "    else:\n",
    "        saver = HTMLQSaver()\n",
    "\n",
    "    return Store(loader, saver)"
   ]
  },
  {
   "cell_type": "markdown",
   "metadata": {},
   "source": [
    "### Q3"
   ]
  },
  {
   "cell_type": "code",
   "execution_count": null,
   "metadata": {},
   "outputs": [],
   "source": [
    "import cgi\n",
    "\n",
    "def add(environ, start_response):\n",
    "    # read form data as string on variable 'poststr'\n",
    "    poststr = environ['wsgi.input'].read(int(environ['CONTENT_LENGTH']))\n",
    "\n",
    "    # parse post data on variable 'posted'\n",
    "    posted = cgi.parse_qs(poststr)\n",
    "\n",
    "    rec = {\n",
    "        'title': posted['title'],\n",
    "        'authors': posted['authors'],\n",
    "        'year': posted['year'],\n",
    "        'category': posted['category']\n",
    "    }\n",
    "\n",
    "    #call\n",
    "    savebook(rec)\n",
    "\n",
    "    succstr = '<html><body>Success</body></html>'\n",
    "\n",
    "    status = '200 OK'\n",
    "    response_headers = [('Content-Type', 'text/html')]\n",
    "    start_response(status, response_headers)\n",
    "\n",
    "    return [succstr.encode('utf-8')]"
   ]
  },
  {
   "cell_type": "markdown",
   "metadata": {},
   "source": [
    "### Q4"
   ]
  },
  {
   "cell_type": "code",
   "execution_count": null,
   "metadata": {},
   "outputs": [],
   "source": [
    "from django.db import models\n",
    "\n",
    "class Author(models.Model):\n",
    "    name = models.CharField(max_length=100, primary_key=True)\n",
    "\n",
    "class Category(models.Model):\\\n",
    "    name = models.CharField(max_length=100, primary_key=True)\n",
    "\n",
    "class Book(models.Model):\n",
    "    title = models.CharField(max_length=100)\n",
    "    year = models.CharField(max_length=4)\n",
    "    authors = models.ManyToManyField(Author)\n",
    "    category = models.ForeignKey(Category)\n",
    "\n",
    "# The book with title 'Django Tutorial':\n",
    "Book.objects.get(title='Django Tutorial')\n",
    "\n",
    "# All books published in 2016 and containing 'python' in their titles:\n",
    "Book.objects.filter(year='2016', title__contains='python')\n",
    "\n",
    "\n",
    "# All books in the category with name 'Sci-Fi':\n",
    "sci_fi = Category.objects.get(name='Sci-Fi')\n",
    "Book.objects.filter(category=sci_fi)\n",
    "\n",
    "# All books of author 'Carl Sagan':\n",
    "author = Author.objects.get(name='Carl Sagan')\n",
    "author.book_set()\n",
    "\n",
    "# All distinct authors that wrote at least one 'Sci-Fi' category book (hint: v in lst):\n",
    "res = set()\n",
    "sci_fi = Category.objects.get(name='Sci-Fi')\n",
    "books = Book.objects.filter(category=sci_fi)\n",
    "\n",
    "for book in books:\n",
    "    for author in book.authors.all():\n",
    "        res.add(author)"
   ]
  },
  {
   "cell_type": "markdown",
   "metadata": {},
   "source": [
    "### Q5"
   ]
  },
  {
   "cell_type": "code",
   "execution_count": null,
   "metadata": {},
   "outputs": [],
   "source": [
    "# assume everythingh necessary is imported here\n",
    "\n",
    "def add(request):\n",
    "    # read form data as string on variable 'poststr'\n",
    "    poststr = request.body.decode('utf-8')\n",
    "\n",
    "    # parse post data on variable 'posted'\n",
    "    posted = parse_qs(poststr)\n",
    "\n",
    "    rec = {} # assume 'rec' has the correct value\n",
    "\n",
    "    # set 'rec' as the template context and show 'added.html'\n",
    "    return render(request, 'added.html', rec)\n"
   ]
  },
  {
   "cell_type": "code",
   "execution_count": null,
   "metadata": {
    "vscode": {
     "languageId": "html"
    }
   },
   "outputs": [],
   "source": [
    "<html>\n",
    "    <body>\n",
    "        You added the book:<br/>\n",
    "        <b>Title</b> {{ title }} </br/>\n",
    "        <b>Author</b>\n",
    "        \n",
    "        <div> { # fill here with li's # }\n",
    "            <ul>\n",
    "                {% for author in authors %}\n",
    "                    <li> {{ author }} </li>\n",
    "                {% endfor }\n",
    "            </ul>\n",
    "        </div>\n",
    "\n",
    "        <b>Year</b> {{ year }} </br/>\n",
    "        <b>Category</b> {{ category }} </br/>\n",
    "    </body>\n",
    "</html>"
   ]
  },
  {
   "cell_type": "markdown",
   "metadata": {},
   "source": [
    "### Q6"
   ]
  },
  {
   "cell_type": "code",
   "execution_count": null,
   "metadata": {
    "vscode": {
     "languageId": "javascript"
    }
   },
   "outputs": [],
   "source": [
    "// Fetch API\n",
    "\n",
    "async function fillcategories() {\n",
    "    // make AJAX call get JSON in 'retval'\n",
    "    var retval = await fetch('/categories/');\n",
    "    if (!retval.ok) {\n",
    "        throw new Error();\n",
    "    }\n",
    "\n",
    "    // parse JSON into Array 'catlist'\n",
    "    var catlist = await retval.json();\n",
    "\n",
    "    // get <select> element in variable 'sel'\n",
    "    var sel = document.getElementById('catselect');\n",
    "\n",
    "    // fill in the inner HTML of the select object with values from 'catlist'\n",
    "    catlist.forEach(cat => {\n",
    "        var option = document.createElement('option');\n",
    "        option.value = cat.id;\n",
    "        option.textContent = cat.name\n",
    "        sel.append(option)\n",
    "    });\n",
    "}"
   ]
  },
  {
   "cell_type": "code",
   "execution_count": null,
   "metadata": {
    "vscode": {
     "languageId": "javascript"
    }
   },
   "outputs": [],
   "source": [
    "// JQuery\n",
    "\n",
    "function fillcategories() {\n",
    "    $.get('/categories/', resp => {\n",
    "        // make AJAX call get JSON in 'retval'\n",
    "        var retval = resp;\n",
    "\n",
    "        // parse JSON into Array 'catlist'\n",
    "        var catlist = retval;\n",
    "\n",
    "        // get <select> element in variable 'sel'\n",
    "        var sel = $('#catselect')\n",
    "\n",
    "        // fill in the inner HTML of the select object with values from 'catlist'\n",
    "        catlist.forEach(cat => {\n",
    "            var option = $('<option></option>')\n",
    "                .attr('value', cat.id)\n",
    "                .text(cat.name);\n",
    "\n",
    "            sel.append(option);\n",
    "        });\n",
    "    });\n",
    "}"
   ]
  }
 ],
 "metadata": {
  "language_info": {
   "name": "python"
  }
 },
 "nbformat": 4,
 "nbformat_minor": 2
}
